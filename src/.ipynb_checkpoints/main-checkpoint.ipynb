{
 "cells": [
  {
   "cell_type": "code",
   "execution_count": 8,
   "id": "cf2b9140",
   "metadata": {},
   "outputs": [
    {
     "name": "stdout",
     "output_type": "stream",
     "text": [
      "The autoreload extension is already loaded. To reload it, use:\n",
      "  %reload_ext autoreload\n"
     ]
    }
   ],
   "source": [
    "%load_ext autoreload\n",
    "%autoreload 2\n",
    "from motion_net import MotionNet\n",
    "from simulation_dataset import MovingMNIST2\n",
    "from simulation_dataset_datamodule import DatasetDataModule\n",
    "from trainer import LightningMotionNet\n",
    "import numpy as np\n",
    "import torch\n",
    "import pytorch_lightning as pl\n",
    "from torch.utils.data import DataLoader\n",
    "from visualization import plot_spatio_temporal_data\n"
   ]
  },
  {
   "cell_type": "code",
   "execution_count": null,
   "id": "e6741c36",
   "metadata": {},
   "outputs": [],
   "source": [
    "root = '../data'\n",
    "n_frames = 20\n",
    "num_digits = 2\n",
    "image_size = 64\n",
    "digit_size = 28\n",
    "N = 1000 # total number of samples including training and validation data\n",
    "mask = np.array([1,1,1,1,1,0,0,0,0,0,0,0,0,0,0,1,1,1,1,1])\n",
    "data = MovingMNIST2( root,\n",
    "                     n_frames,\n",
    "                     mask,\n",
    "                     num_digits,\n",
    "                     image_size,\n",
    "                     digit_size,\n",
    "                     N,\n",
    "                     transform=None,\n",
    "                     use_fixed_dataset=False)\n",
    "data_module = DatasetDataModule(data, 4, 0.5)\n",
    "\n",
    "motion_net = MotionNet(channels=1, state_dim=0, action_dim=0)\n",
    "learning_rate = 1e-4\n",
    "model = LightningMotionNet(motion_net, learning_rate)\n",
    "\n",
    "# load from checkpoint\n",
    "try:\n",
    "    model.load_from_checkpoint(checkpoint_path='motion_net.ckpt', motion_net=motion_net, learning_rate=learning_rate)\n",
    "except:\n",
    "    print('fail to load the model')\n",
    "    pass\n",
    "\n",
    "\n",
    "max_epoch = 20\n",
    "if torch.cuda.is_available():\n",
    "    trainer = pl.Trainer(max_epochs=max_epoch, gpus=1)\n",
    "else:\n",
    "    trainer = pl.Trainer(max_epochs=max_epoch)\n",
    "trainer.fit(model, data_module)\n",
    "\n",
    "trainer.save_checkpoint(\"motion_net.ckpt\")"
   ]
  },
  {
   "cell_type": "code",
   "execution_count": 10,
   "id": "eec69019",
   "metadata": {},
   "outputs": [
    {
     "ename": "AttributeError",
     "evalue": "'list' object has no attribute 'to'",
     "output_type": "error",
     "traceback": [
      "\u001b[0;31m---------------------------------------------------------------------------\u001b[0m",
      "\u001b[0;31mAttributeError\u001b[0m                            Traceback (most recent call last)",
      "\u001b[0;32m/tmp/ipykernel_21967/1028167149.py\u001b[0m in \u001b[0;36m<module>\u001b[0;34m\u001b[0m\n\u001b[1;32m     39\u001b[0m     \u001b[0mmask\u001b[0m \u001b[0;34m=\u001b[0m \u001b[0mmask\u001b[0m\u001b[0;34m.\u001b[0m\u001b[0mto\u001b[0m\u001b[0;34m(\u001b[0m\u001b[0mdevice\u001b[0m\u001b[0;34m)\u001b[0m\u001b[0;34m\u001b[0m\u001b[0;34m\u001b[0m\u001b[0m\n\u001b[1;32m     40\u001b[0m     \u001b[0mimages_input\u001b[0m \u001b[0;34m=\u001b[0m \u001b[0mimages_input\u001b[0m\u001b[0;34m.\u001b[0m\u001b[0mto\u001b[0m\u001b[0;34m(\u001b[0m\u001b[0mdevice\u001b[0m\u001b[0;34m)\u001b[0m\u001b[0;34m\u001b[0m\u001b[0;34m\u001b[0m\u001b[0m\n\u001b[0;32m---> 41\u001b[0;31m     \u001b[0mactions\u001b[0m \u001b[0;34m=\u001b[0m \u001b[0mactions\u001b[0m\u001b[0;34m.\u001b[0m\u001b[0mto\u001b[0m\u001b[0;34m(\u001b[0m\u001b[0mdevice\u001b[0m\u001b[0;34m)\u001b[0m\u001b[0;34m\u001b[0m\u001b[0;34m\u001b[0m\u001b[0m\n\u001b[0m\u001b[1;32m     42\u001b[0m     \u001b[0mstate\u001b[0m \u001b[0;34m=\u001b[0m \u001b[0mstate\u001b[0m\u001b[0;34m.\u001b[0m\u001b[0mto\u001b[0m\u001b[0;34m(\u001b[0m\u001b[0mdevice\u001b[0m\u001b[0;34m)\u001b[0m\u001b[0;34m\u001b[0m\u001b[0;34m\u001b[0m\u001b[0m\n\u001b[1;32m     43\u001b[0m \u001b[0;34m\u001b[0m\u001b[0m\n",
      "\u001b[0;31mAttributeError\u001b[0m: 'list' object has no attribute 'to'"
     ]
    }
   ],
   "source": [
    "root = '../data'\n",
    "n_frames = 20\n",
    "num_digits = 2\n",
    "image_size = 64\n",
    "digit_size = 28\n",
    "N = 1 # total number of samples including training and validation data\n",
    "mask = np.array([1,1,1,1,1,0,0,0,0,0,0,0,0,0,0,1,1,1,1,1])\n",
    "data = MovingMNIST2( root,\n",
    "                     n_frames,\n",
    "                     mask,\n",
    "                     num_digits,\n",
    "                     image_size,\n",
    "                     digit_size,\n",
    "                     N,\n",
    "                     transform=None,\n",
    "                     use_fixed_dataset=False)\n",
    "data_module = DataLoader(data, 1)\n",
    "motion_net = MotionNet(channels=1, state_dim=0, action_dim=0)\n",
    "learning_rate = 1e-4\n",
    "model = LightningMotionNet(motion_net, learning_rate)\n",
    "\n",
    "# load from checkpoint\n",
    "try:\n",
    "    model.load_from_checkpoint(checkpoint_path='motion_net.ckpt', motion_net=motion_net, learning_rate=learning_rate)\n",
    "except:\n",
    "    print('fail to load the model')\n",
    "    pass\n",
    "\n",
    "device = torch.device(\"cuda:0\" if torch.cuda.is_available() else \"cpu\")\n",
    "model.to(device)\n",
    "\n",
    "\n",
    "# predict for one sample\n",
    "for idx, batch in enumerate(data_module):\n",
    "    \n",
    "    [_, mask, images_input, actions, state, true_data] = batch\n",
    "    \n",
    "    # transfer the data to gpu\n",
    "    mask = mask.to(device)\n",
    "    images_input = images_input.to(device)\n",
    "    if actions:\n",
    "        actions = actions.to(device)\n",
    "    if state:\n",
    "        state = state.to(device)\n",
    "    \n",
    "        \n",
    "    output = model(images_input, actions, state, mask)\n",
    "    output = torch.stack(pred, dim=1)  # Bx(T-1)xCxHxW\n",
    "\n",
    "    if idx == 0:\n",
    "        break\n",
    "\n",
    "\n",
    "predicted_data = torch.cat(output, dim=1).cpu().detach().numpy().squeeze(0).squeeze(1)  # transfer the tensor from gpu to cpu\n",
    "\n",
    "\n",
    "# plot the true data\n",
    "plot_spatio_temporal_data(true_data)\n",
    "plot_spatio_temporal_data(predicted_data)\n",
    "\n",
    "\n",
    "print(\"error for the new sample is %.4f\"%np.mean((predicted_data - true_data)**2))"
   ]
  }
 ],
 "metadata": {
  "environment": {
   "name": "pytorch-gpu.1-9.m75",
   "type": "gcloud",
   "uri": "gcr.io/deeplearning-platform-release/pytorch-gpu.1-9:m75"
  },
  "kernelspec": {
   "display_name": "Python 3",
   "language": "python",
   "name": "python3"
  },
  "language_info": {
   "codemirror_mode": {
    "name": "ipython",
    "version": 3
   },
   "file_extension": ".py",
   "mimetype": "text/x-python",
   "name": "python",
   "nbconvert_exporter": "python",
   "pygments_lexer": "ipython3",
   "version": "3.7.10"
  }
 },
 "nbformat": 4,
 "nbformat_minor": 5
}
